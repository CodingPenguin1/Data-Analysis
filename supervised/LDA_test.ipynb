{
 "cells": [
  {
   "cell_type": "code",
   "execution_count": 45,
   "metadata": {},
   "outputs": [],
   "source": [
    "import numpy.random as rand\n",
    "import pandas as pd\n",
    "\n",
    "import matplotlib.pyplot as plt\n",
    "\n",
    "from sklearn.preprocessing import StandardScaler\n",
    "from sklearn.model_selection import train_test_split\n",
    "from sklearn.discriminant_analysis import LinearDiscriminantAnalysis as LDA\n",
    "\n",
    "import concurrent.futures"
   ]
  },
  {
   "cell_type": "code",
   "execution_count": 46,
   "metadata": {},
   "outputs": [],
   "source": [
    "# Create dataset\n",
    "n_classes, n_samples = 3, 9000\n",
    "df = pd.DataFrame(rand.random((n_samples, 3)) * 1000, columns=['X', 'Y', 'Z'])\n",
    "_class = sorted([i % n_classes for i in range(n_samples)])\n",
    "df['Class'] = _class"
   ]
  },
  {
   "cell_type": "code",
   "execution_count": 47,
   "metadata": {},
   "outputs": [],
   "source": [
    "def plot_LDA(n_dimensions=3, n_classes=3, n_samples=750):\n",
    "    # Create dataset\n",
    "    df = pd.DataFrame(rand.random((n_samples, n_classes)) * 1000)\n",
    "    _class = sorted([i % n_classes for i in range(n_samples)])\n",
    "    df['Class'] = _class\n",
    "    \n",
    "    # Test and train set creation\n",
    "    # X is feature set, y is label set\n",
    "    X = df.iloc[:, :3].values\n",
    "    y = df.iloc[:, 3].values\n",
    "    X_train, X_test, y_train, y_test = train_test_split(X, y, test_size=0.2, random_state=0)\n",
    "    \n",
    "    # Preprocessing and scaling\n",
    "    sc = StandardScaler()\n",
    "    X_train = sc.fit_transform(X_train)\n",
    "    X_test = sc.transform(X_test)\n",
    "    \n",
    "    # Linear Discriminant Analysis\n",
    "    num_components = 2\n",
    "    lda = LDA(n_components=num_components)\n",
    "    x = lda.fit_transform(X_train, y_train)\n",
    "    x = pd.DataFrame(x, columns=[f'LD{i+1}' for i in range(num_components)])\n",
    "    \n",
    "    # Plot\n",
    "    plt.figure(figsize=(10, 10))\n",
    "    scatter = plt.scatter(x['LD1'], x['LD2'], c=y_train, cmap='rainbow')\n",
    "    plt.title(f'LDA on Random Data ({n_dimensions} dimensions)')\n",
    "    plt.xlabel('LD1')\n",
    "    plt.ylabel('LD2')\n",
    "    \n",
    "    plt.savefig(f'.images/dimensions_{n_dimensions}')\n",
    "    plt.close()"
   ]
  },
  {
   "cell_type": "code",
   "execution_count": 48,
   "metadata": {},
   "outputs": [],
   "source": [
    "# Generate plots \n",
    "max_dimensions = 100\n",
    "n_samples = 9000\n",
    "dimensions = [i for i in range(3, max_dimensions)]\n",
    "\n",
    "# Multithreaded\n",
    "# with concurrent.futures.ThreadPoolExecutor(max_workers=8) as executor:\n",
    "#     results = executor.map(plot_LDA, dimensions)\n",
    "\n",
    "# Singlethreaded\n",
    "# Switched back to 1 thread because they were colliding and making overlapping plots and missing plots\n",
    "for n_dimensions in dimensions:\n",
    "    results = plot_LDA(n_dimensions=n_dimensions, n_samples=9000)"
   ]
  },
  {
   "cell_type": "code",
   "execution_count": 50,
   "metadata": {},
   "outputs": [],
   "source": [
    "# https://stackoverflow.com/questions/44947505/how-to-make-a-movie-out-of-images-in-python\n",
    "\n",
    "import cv2\n",
    "import os\n",
    "\n",
    "image_folder = '.images'\n",
    "video_name = 'LDA-dimensionality.avi'\n",
    "\n",
    "images = sorted([img for img in os.listdir(image_folder) if img.endswith('.png')])\n",
    "frame = cv2.imread(os.path.join(image_folder, images[0]))\n",
    "height, width, layers = frame.shape\n",
    "\n",
    "video = cv2.VideoWriter(video_name, 0, 1, (width, height))\n",
    "\n",
    "for image in images:\n",
    "    video.write(cv2.imread(os.path.join(image_folder, image)))\n",
    "\n",
    "cv2.destroyAllWindows()\n",
    "video.release()"
   ]
  },
  {
   "cell_type": "code",
   "execution_count": null,
   "metadata": {},
   "outputs": [],
   "source": []
  }
 ],
 "metadata": {
  "interpreter": {
   "hash": "2fe6a34707844a1c4d5d54c56865d25f135bdc9fa242f6644e22c6b95d8e4b01"
  },
  "kernelspec": {
   "display_name": "Python 3.8.11 64-bit ('base': conda)",
   "name": "python3"
  },
  "language_info": {
   "codemirror_mode": {
    "name": "ipython",
    "version": 3
   },
   "file_extension": ".py",
   "mimetype": "text/x-python",
   "name": "python",
   "nbconvert_exporter": "python",
   "pygments_lexer": "ipython3",
   "version": "3.8.11"
  },
  "orig_nbformat": 4
 },
 "nbformat": 4,
 "nbformat_minor": 2
}
