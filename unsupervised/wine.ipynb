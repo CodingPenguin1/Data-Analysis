{
 "cells": [
  {
   "cell_type": "code",
   "execution_count": null,
   "source": [
    "from os.path import exists\n",
    "from os import mkdir\n",
    "import kaggle\n",
    "\n",
    "import pandas as pd\n",
    "import numpy as np\n",
    "\n",
    "import matplotlib.pyplot as plt\n",
    "%matplotlib inline\n",
    "\n",
    "from sklearn.decomposition import PCA\n",
    "from sklearn.preprocessing import StandardScaler\n",
    "from sklearn.cluster import AgglomerativeClustering\n",
    "from scipy.cluster.hierarchy import dendrogram\n",
    "from sklearn.cluster import KMeans"
   ],
   "outputs": [],
   "metadata": {}
  },
  {
   "cell_type": "markdown",
   "source": [
    "# Load Dataset"
   ],
   "metadata": {}
  },
  {
   "cell_type": "code",
   "execution_count": null,
   "source": [
    "# Make sure datasets directory exists\n",
    "if not exists('../datasets'):\n",
    "    mkdir('../datasets')\n",
    "\n",
    "# Download dataset\n",
    "dataset_path = '../datasets/wine'\n",
    "if not exists(dataset_path):\n",
    "    kaggle.api.authenticate()\n",
    "    kaggle.api.dataset_download_files('harrywang/wine-dataset-for-clustering', '../datasets/wine', unzip=True)"
   ],
   "outputs": [],
   "metadata": {}
  },
  {
   "cell_type": "code",
   "execution_count": null,
   "source": [
    "# Load dataset\n",
    "df = pd.read_csv(dataset_path + '/wine-clustering.csv')\n",
    "\n",
    "print(df.columns.values)"
   ],
   "outputs": [],
   "metadata": {}
  },
  {
   "cell_type": "markdown",
   "source": [
    "# Principal Component Analysis"
   ],
   "metadata": {}
  },
  {
   "cell_type": "code",
   "execution_count": null,
   "source": [
    "# Scale data befor applying PCA\n",
    "scaling = StandardScaler()\n",
    "scaling.fit(df)\n",
    "scaled_data = scaling.transform(df)\n",
    "\n",
    "# Run PCA\n",
    "num_components = min(df.shape)\n",
    "principal = PCA(n_components=num_components)\n",
    "principal.fit(scaled_data)\n",
    "x = principal.transform(scaled_data)\n",
    "x = pd.DataFrame(x, columns=[f'PC{i+1}' for i in range(num_components)])\n",
    "\n",
    "# Check the dimensions of data after PCA\n",
    "print(x.shape)"
   ],
   "outputs": [],
   "metadata": {}
  },
  {
   "cell_type": "markdown",
   "source": [
    "Select a target and run the below cells to see visualization\n",
    "\n",
    "`OD280` and `Flavanoids` have good clustering"
   ],
   "metadata": {}
  },
  {
   "cell_type": "code",
   "execution_count": null,
   "source": [
    "print(' | '.join(df.columns.values))\n",
    "target = 'OD280'"
   ],
   "outputs": [],
   "metadata": {}
  },
  {
   "cell_type": "code",
   "execution_count": null,
   "source": [
    "plt.figure(figsize=(10, 10))\n",
    "plt.scatter(x['PC1'], x['PC2'], c=df[target], cmap='bwr')\n",
    "plt.xlabel('PC1')\n",
    "plt.ylabel('PC2')"
   ],
   "outputs": [],
   "metadata": {}
  },
  {
   "cell_type": "code",
   "execution_count": null,
   "source": [
    "fig = plt.figure(figsize=(10, 10))\n",
    "axis = fig.add_subplot(111, projection='3d')\n",
    "axis.scatter(x['PC1'], x['PC2'], x['PC3'], c=df[target], cmap='bwr')\n",
    "axis.set_xlabel('PC1', fontsize=10)\n",
    "axis.set_ylabel('PC2', fontsize=10)\n",
    "axis.set_zlabel('PC3', fontsize=10)"
   ],
   "outputs": [],
   "metadata": {}
  },
  {
   "cell_type": "code",
   "execution_count": null,
   "source": [
    "plt.figure(figsize=(10, 10))\n",
    "plt.bar(x=x.columns.values, height=[100 * i for i in principal.explained_variance_ratio_])\n",
    "plt.xlabel('Principal Component')\n",
    "plt.ylabel('Variance Ratio (%)')"
   ],
   "outputs": [],
   "metadata": {}
  },
  {
   "cell_type": "markdown",
   "source": [
    "# Agglomerative Clustering\n",
    "\n",
    "[Source](https://scikit-learn.org/stable/auto_examples/cluster/plot_agglomerative_dendrogram.html)"
   ],
   "metadata": {}
  },
  {
   "cell_type": "code",
   "execution_count": null,
   "source": [
    "def plot_dendrogram(model, **kwargs):\n",
    "    # Create linkage matrix and then plot the dendrogram\n",
    "\n",
    "    # create the counts of samples under each node\n",
    "    counts = np.zeros(model.children_.shape[0])\n",
    "    n_samples = len(model.labels_)\n",
    "    for i, merge in enumerate(model.children_):\n",
    "        current_count = 0\n",
    "        for child_idx in merge:\n",
    "            if child_idx < n_samples:\n",
    "                current_count += 1  # leaf node\n",
    "            else:\n",
    "                current_count += counts[child_idx - n_samples]\n",
    "        counts[i] = current_count\n",
    "\n",
    "    linkage_matrix = np.column_stack([model.children_, model.distances_,\n",
    "                                      counts]).astype(float)\n",
    "\n",
    "    # Plot the corresponding dendrogram\n",
    "    dendrogram(linkage_matrix, **kwargs)"
   ],
   "outputs": [],
   "metadata": {}
  },
  {
   "cell_type": "code",
   "execution_count": null,
   "source": [
    "model = AgglomerativeClustering(distance_threshold=0, n_clusters=None)\n",
    "model = model.fit(df)\n",
    "\n",
    "plt.figure(figsize=(10, 10))\n",
    "plt.title('Hierarchical Clustering Dendrogram')\n",
    "plot_dendrogram(model, truncate_mode='level', p=3)\n",
    "plt.xlabel('Number of points in node (or index of point if no parenthesis)')\n",
    "plt.show()"
   ],
   "outputs": [],
   "metadata": {}
  },
  {
   "cell_type": "markdown",
   "source": [
    "# K-Means\n",
    "\n",
    "[Source](https://thatascience.com/learn-machine-learning/k-means/)"
   ],
   "metadata": {}
  },
  {
   "cell_type": "code",
   "execution_count": null,
   "source": [
    "km = KMeans(n_clusters=2)\n",
    "clusters = km.fit_predict(df)"
   ],
   "outputs": [],
   "metadata": {}
  },
  {
   "cell_type": "code",
   "execution_count": null,
   "source": [
    "plt.figure(figsize=(10, 10))\n",
    "plt.scatter(x['PC1'], x['PC2'], c=clusters, cmap='bwr')\n",
    "plt.xlabel('PC1')\n",
    "plt.ylabel('PC2')"
   ],
   "outputs": [],
   "metadata": {}
  },
  {
   "cell_type": "code",
   "execution_count": null,
   "source": [
    "fig = plt.figure(figsize=(10, 10))\n",
    "ax = fig.add_subplot(111, projection='3d')\n",
    "scatter = ax.scatter(x['PC1'], x['PC2'], x['PC3'], c=clusters, cmap='bwr')\n",
    "\n",
    "ax.set_title('K-Means Clustering')\n",
    "ax.set_xlabel('PC1')\n",
    "ax.set_ylabel('PC2')\n",
    "ax.set_zlabel('PC3')\n",
    "plt.show()"
   ],
   "outputs": [],
   "metadata": {}
  },
  {
   "cell_type": "code",
   "execution_count": null,
   "source": [],
   "outputs": [],
   "metadata": {}
  }
 ],
 "metadata": {
  "orig_nbformat": 4,
  "language_info": {
   "name": "python",
   "version": "3.8.11",
   "mimetype": "text/x-python",
   "codemirror_mode": {
    "name": "ipython",
    "version": 3
   },
   "pygments_lexer": "ipython3",
   "nbconvert_exporter": "python",
   "file_extension": ".py"
  },
  "kernelspec": {
   "name": "python3",
   "display_name": "Python 3.8.11 64-bit ('base': conda)"
  },
  "interpreter": {
   "hash": "29d0018ded8f8bd3d7f9c421c6ef3e51c50021dd1461c4e2515a5c0ab37624eb"
  }
 },
 "nbformat": 4,
 "nbformat_minor": 2
}